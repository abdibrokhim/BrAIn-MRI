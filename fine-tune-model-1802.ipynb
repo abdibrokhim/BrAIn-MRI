{
  "cells": [
    {
      "cell_type": "code",
      "execution_count": 3,
      "metadata": {
        "colab": {
          "base_uri": "https://localhost:8080/"
        },
        "id": "oEoZmbcqcxSA",
        "outputId": "fe356763-7ae4-470e-9779-58039b9eb383"
      },
      "outputs": [
        {
          "name": "stdout",
          "output_type": "stream",
          "text": [
            "Collecting together\n",
            "  Downloading together-0.2.11-py3-none-any.whl (43 kB)\n",
            "\u001b[?25l     \u001b[90m━━━━━━━━━━━━━━━━━━━━━━━━━━━━━━━━━━━━━━━━\u001b[0m \u001b[32m0.0/43.8 kB\u001b[0m \u001b[31m?\u001b[0m eta \u001b[36m-:--:--\u001b[0m\r\u001b[2K     \u001b[90m━━━━━━━━━━━━━━━━━━━━━━━━━━━━━━━━━━━━━━━━\u001b[0m \u001b[32m43.8/43.8 kB\u001b[0m \u001b[31m1.4 MB/s\u001b[0m eta \u001b[36m0:00:00\u001b[0m\n",
            "\u001b[?25hRequirement already satisfied: aiohttp<4.0.0,>=3.7.4 in /usr/local/lib/python3.10/dist-packages (from together) (3.9.3)\n",
            "Requirement already satisfied: pydantic<3.0.0,>=2.5.0 in /usr/local/lib/python3.10/dist-packages (from together) (2.6.1)\n",
            "Requirement already satisfied: requests<3.0.0,>=2.31.0 in /usr/local/lib/python3.10/dist-packages (from together) (2.31.0)\n",
            "Collecting sseclient-py<2.0.0,>=1.7.2 (from together)\n",
            "  Downloading sseclient_py-1.8.0-py2.py3-none-any.whl (8.8 kB)\n",
            "Requirement already satisfied: tabulate<0.10.0,>=0.9.0 in /usr/local/lib/python3.10/dist-packages (from together) (0.9.0)\n",
            "Requirement already satisfied: tqdm<5.0.0,>=4.66.1 in /usr/local/lib/python3.10/dist-packages (from together) (4.66.2)\n",
            "Requirement already satisfied: typer<0.10.0,>=0.9.0 in /usr/local/lib/python3.10/dist-packages (from together) (0.9.0)\n",
            "Requirement already satisfied: aiosignal>=1.1.2 in /usr/local/lib/python3.10/dist-packages (from aiohttp<4.0.0,>=3.7.4->together) (1.3.1)\n",
            "Requirement already satisfied: attrs>=17.3.0 in /usr/local/lib/python3.10/dist-packages (from aiohttp<4.0.0,>=3.7.4->together) (23.2.0)\n",
            "Requirement already satisfied: frozenlist>=1.1.1 in /usr/local/lib/python3.10/dist-packages (from aiohttp<4.0.0,>=3.7.4->together) (1.4.1)\n",
            "Requirement already satisfied: multidict<7.0,>=4.5 in /usr/local/lib/python3.10/dist-packages (from aiohttp<4.0.0,>=3.7.4->together) (6.0.5)\n",
            "Requirement already satisfied: yarl<2.0,>=1.0 in /usr/local/lib/python3.10/dist-packages (from aiohttp<4.0.0,>=3.7.4->together) (1.9.4)\n",
            "Requirement already satisfied: async-timeout<5.0,>=4.0 in /usr/local/lib/python3.10/dist-packages (from aiohttp<4.0.0,>=3.7.4->together) (4.0.3)\n",
            "Requirement already satisfied: annotated-types>=0.4.0 in /usr/local/lib/python3.10/dist-packages (from pydantic<3.0.0,>=2.5.0->together) (0.6.0)\n",
            "Requirement already satisfied: pydantic-core==2.16.2 in /usr/local/lib/python3.10/dist-packages (from pydantic<3.0.0,>=2.5.0->together) (2.16.2)\n",
            "Requirement already satisfied: typing-extensions>=4.6.1 in /usr/local/lib/python3.10/dist-packages (from pydantic<3.0.0,>=2.5.0->together) (4.9.0)\n",
            "Requirement already satisfied: charset-normalizer<4,>=2 in /usr/local/lib/python3.10/dist-packages (from requests<3.0.0,>=2.31.0->together) (3.3.2)\n",
            "Requirement already satisfied: idna<4,>=2.5 in /usr/local/lib/python3.10/dist-packages (from requests<3.0.0,>=2.31.0->together) (3.6)\n",
            "Requirement already satisfied: urllib3<3,>=1.21.1 in /usr/local/lib/python3.10/dist-packages (from requests<3.0.0,>=2.31.0->together) (2.0.7)\n",
            "Requirement already satisfied: certifi>=2017.4.17 in /usr/local/lib/python3.10/dist-packages (from requests<3.0.0,>=2.31.0->together) (2024.2.2)\n",
            "Requirement already satisfied: click<9.0.0,>=7.1.1 in /usr/local/lib/python3.10/dist-packages (from typer<0.10.0,>=0.9.0->together) (8.1.7)\n",
            "Installing collected packages: sseclient-py, together\n",
            "Successfully installed sseclient-py-1.8.0 together-0.2.11\n"
          ]
        }
      ],
      "source": [
        "pip install --upgrade together"
      ]
    },
    {
      "cell_type": "code",
      "execution_count": 4,
      "metadata": {
        "id": "tvz7Cka10y0U"
      },
      "outputs": [],
      "source": [
        "import together"
      ]
    },
    {
      "cell_type": "code",
      "execution_count": 5,
      "metadata": {
        "id": "5WzjYlWU033x"
      },
      "outputs": [],
      "source": [
        "api_key = \"...\""
      ]
    },
    {
      "cell_type": "code",
      "execution_count": 6,
      "metadata": {
        "id": "jWoQjP3L07K-"
      },
      "outputs": [],
      "source": [
        "together.api_key = api_key"
      ]
    },
    {
      "cell_type": "code",
      "execution_count": 7,
      "metadata": {
        "colab": {
          "base_uri": "https://localhost:8080/"
        },
        "id": "zQs5Dv2E1CN1",
        "outputId": "d8eef9a7-2729-4e6f-c75f-db9abe5d5a75"
      },
      "outputs": [
        {
          "name": "stdout",
          "output_type": "stream",
          "text": [
            "{'is_check_passed': True, 'model_special_tokens': 'we are not yet checking end of sentence tokens for this model', 'file_present': 'File found', 'file_size': 'File size 0.001 GB', 'num_samples': 225}\n"
          ]
        }
      ],
      "source": [
        "resp = together.Files.check(file=\"/content/training_v1.jsonl\")\n",
        "print(resp)"
      ]
    },
    {
      "cell_type": "code",
      "execution_count": 8,
      "metadata": {
        "colab": {
          "base_uri": "https://localhost:8080/",
          "height": 53
        },
        "id": "lIKgzYFa1qQY",
        "outputId": "4d0e2797-6638-479e-c4a7-eeb080f91c07"
      },
      "outputs": [
        {
          "name": "stderr",
          "output_type": "stream",
          "text": [
            "Uploading /content/training_v1.jsonl: 100%|██████████| 744k/744k [00:00<00:00, 956kB/s] \n"
          ]
        },
        {
          "data": {
            "application/vnd.google.colaboratory.intrinsic+json": {
              "type": "string"
            },
            "text/plain": [
              "'file-37e4e32d-6585-419a-a8f5-13b3aa85f927'"
            ]
          },
          "execution_count": 8,
          "metadata": {},
          "output_type": "execute_result"
        }
      ],
      "source": [
        "resp = together.Files.upload(file=\"/content/training_v1.jsonl\")\n",
        "file_id = resp[\"id\"]\n",
        "file_id"
      ]
    },
    {
      "cell_type": "markdown",
      "metadata": {
        "id": "BpKEMcELynLX"
      },
      "source": []
    },
    {
      "cell_type": "code",
      "execution_count": null,
      "metadata": {
        "id": "_OrBPCsPmR8W"
      },
      "outputs": [],
      "source": [
        "together.Models.list()"
      ]
    },
    {
      "cell_type": "code",
      "execution_count": 16,
      "metadata": {
        "colab": {
          "base_uri": "https://localhost:8080/"
        },
        "id": "68TPZ11c1Sqy",
        "outputId": "f4998430-b38f-4d75-e87e-b90641b766ba"
      },
      "outputs": [
        {
          "name": "stdout",
          "output_type": "stream",
          "text": [
            "{'training_file': 'file-37e4e32d-6585-419a-a8f5-13b3aa85f927', 'validation_file': '', 'model_output_name': 'abdibrokhim@gmail.com/llama-2-70b-chat-brain-mri-1802-2024-02-17-20-07-21', 'model_output_path': 's3://together-dev/finetune/65cfcbab16f2b340bd144397/abdibrokhim@gmail.com/llama-2-70b-chat-brain-mri-1802-2024-02-17-20-07-21/ft-291d296a-1453-4edc-94d8-ef48ce3729ff', 'Suffix': 'brain-mri-1802', 'model': 'togethercomputer/llama-2-70b-chat', 'n_epochs': 10, 'n_checkpoints': 1, 'batch_size': 32, 'learning_rate': 1e-05, 'eval_steps': 0, 'user_id': '65cfcbab16f2b340bd144397', 'lora': False, 'lora_r': 8, 'lora_alpha': 8, 'lora_dropout': 0, 'staring_epoch': 0, 'training_offset': 0, 'checkspoint_path': '', 'random_seed': '', 'created_at': '2024-02-17T20:07:21.309Z', 'updated_at': '2024-02-17T20:07:21.309Z', 'status': 'pending', 'owner_address': '0x2b92f20013be77db0632832eb8148b153b61ffa7', 'id': 'ft-291d296a-1453-4edc-94d8-ef48ce3729ff', 'job_id': '', 'token_count': 0, 'param_count': 0, 'total_price': 0, 'epochs_completed': 0, 'events': [{'object': 'fine-tune-event', 'created_at': '2024-02-17T20:07:21.309Z', 'level': '', 'message': 'Fine tune request created', 'type': 'JOB_PENDING', 'param_count': 0, 'token_count': 0, 'wandb_url': '', 'checkpoint_path': '', 'model_path': '', 'training_offset': 0, 'hash': ''}], 'queue_depth': 0, 'wandb_key': 'a2139314197b1f2f8006e86df51293aea854017a', 'wandb_project_name': '', 'wandb_url': '', 'enable_checkpoints': False, 'internal_flags': '', 'UsedModelName': '', 'TrainingFileNumLines': 0, 'TrainingFileSize': 761873, 'job_stats': {'FtUserTime': '', 'FtSysTime': '', 'FtMaxRss': 0, 'FtMinPgFlt': 0, 'FtMajPgFlt': 0, 'FtInBlock': 0, 'FtOutBlock': 0, 'FtNvCsw': 0, 'FtNivCsw': 0}}\n"
          ]
        }
      ],
      "source": [
        "resp = together.Finetune.create(\n",
        "  training_file = 'file-37e4e32d-6585-419a-a8f5-13b3aa85f927',\n",
        "  model = 'togethercomputer/llama-2-70b-chat',\n",
        "  n_epochs = 10,\n",
        "  n_checkpoints = 1,\n",
        "  batch_size = 4,\n",
        "  learning_rate = 1e-5,\n",
        "  suffix = 'brain-mri-1802',\n",
        "  wandb_api_key = '...',\n",
        ")\n",
        "\n",
        "fine_tune_id = resp['id']\n",
        "print(resp)"
      ]
    },
    {
      "cell_type": "code",
      "execution_count": 19,
      "metadata": {
        "colab": {
          "base_uri": "https://localhost:8080/"
        },
        "id": "SX3SOcRKXTVq",
        "outputId": "05048723-2bd6-48c6-94ea-fdaa7fd53b26"
      },
      "outputs": [
        {
          "name": "stdout",
          "output_type": "stream",
          "text": [
            "running\n"
          ]
        }
      ],
      "source": [
        "print(together.Finetune.get_job_status(fine_tune_id=fine_tune_id))"
      ]
    }
  ],
  "metadata": {
    "colab": {
      "provenance": []
    },
    "kernelspec": {
      "display_name": "Python 3",
      "name": "python3"
    },
    "language_info": {
      "name": "python"
    }
  },
  "nbformat": 4,
  "nbformat_minor": 0
}
